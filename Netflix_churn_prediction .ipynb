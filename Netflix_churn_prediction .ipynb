{
 "cells": [
  {
   "cell_type": "code",
   "execution_count": 2,
   "id": "afbd266c",
   "metadata": {},
   "outputs": [
    {
     "data": {
      "text/html": [
       "<div>\n",
       "<style scoped>\n",
       "    .dataframe tbody tr th:only-of-type {\n",
       "        vertical-align: middle;\n",
       "    }\n",
       "\n",
       "    .dataframe tbody tr th {\n",
       "        vertical-align: top;\n",
       "    }\n",
       "\n",
       "    .dataframe thead th {\n",
       "        text-align: right;\n",
       "    }\n",
       "</style>\n",
       "<table border=\"1\" class=\"dataframe\">\n",
       "  <thead>\n",
       "    <tr style=\"text-align: right;\">\n",
       "      <th></th>\n",
       "      <th>User_ID</th>\n",
       "      <th>Name</th>\n",
       "      <th>Age</th>\n",
       "      <th>Country</th>\n",
       "      <th>Subscription_Type</th>\n",
       "      <th>Watch_Time_Hours</th>\n",
       "      <th>Favorite_Genre</th>\n",
       "      <th>Last_Login</th>\n",
       "    </tr>\n",
       "  </thead>\n",
       "  <tbody>\n",
       "    <tr>\n",
       "      <th>0</th>\n",
       "      <td>1</td>\n",
       "      <td>James Martinez</td>\n",
       "      <td>18</td>\n",
       "      <td>France</td>\n",
       "      <td>Premium</td>\n",
       "      <td>80.26</td>\n",
       "      <td>Drama</td>\n",
       "      <td>2024-05-12</td>\n",
       "    </tr>\n",
       "    <tr>\n",
       "      <th>1</th>\n",
       "      <td>2</td>\n",
       "      <td>John Miller</td>\n",
       "      <td>23</td>\n",
       "      <td>USA</td>\n",
       "      <td>Premium</td>\n",
       "      <td>321.75</td>\n",
       "      <td>Sci-Fi</td>\n",
       "      <td>2025-02-05</td>\n",
       "    </tr>\n",
       "    <tr>\n",
       "      <th>2</th>\n",
       "      <td>3</td>\n",
       "      <td>Emma Davis</td>\n",
       "      <td>60</td>\n",
       "      <td>UK</td>\n",
       "      <td>Basic</td>\n",
       "      <td>35.89</td>\n",
       "      <td>Comedy</td>\n",
       "      <td>2025-01-24</td>\n",
       "    </tr>\n",
       "    <tr>\n",
       "      <th>3</th>\n",
       "      <td>4</td>\n",
       "      <td>Emma Miller</td>\n",
       "      <td>44</td>\n",
       "      <td>USA</td>\n",
       "      <td>Premium</td>\n",
       "      <td>261.56</td>\n",
       "      <td>Documentary</td>\n",
       "      <td>2024-03-25</td>\n",
       "    </tr>\n",
       "    <tr>\n",
       "      <th>4</th>\n",
       "      <td>5</td>\n",
       "      <td>Jane Smith</td>\n",
       "      <td>68</td>\n",
       "      <td>USA</td>\n",
       "      <td>Standard</td>\n",
       "      <td>909.30</td>\n",
       "      <td>Drama</td>\n",
       "      <td>2025-01-14</td>\n",
       "    </tr>\n",
       "    <tr>\n",
       "      <th>...</th>\n",
       "      <td>...</td>\n",
       "      <td>...</td>\n",
       "      <td>...</td>\n",
       "      <td>...</td>\n",
       "      <td>...</td>\n",
       "      <td>...</td>\n",
       "      <td>...</td>\n",
       "      <td>...</td>\n",
       "    </tr>\n",
       "    <tr>\n",
       "      <th>24995</th>\n",
       "      <td>24996</td>\n",
       "      <td>David Miller</td>\n",
       "      <td>18</td>\n",
       "      <td>Australia</td>\n",
       "      <td>Premium</td>\n",
       "      <td>183.88</td>\n",
       "      <td>Horror</td>\n",
       "      <td>2025-01-18</td>\n",
       "    </tr>\n",
       "    <tr>\n",
       "      <th>24996</th>\n",
       "      <td>24997</td>\n",
       "      <td>Jane Miller</td>\n",
       "      <td>17</td>\n",
       "      <td>USA</td>\n",
       "      <td>Premium</td>\n",
       "      <td>112.37</td>\n",
       "      <td>Drama</td>\n",
       "      <td>2024-06-29</td>\n",
       "    </tr>\n",
       "    <tr>\n",
       "      <th>24997</th>\n",
       "      <td>24998</td>\n",
       "      <td>Sarah Miller</td>\n",
       "      <td>14</td>\n",
       "      <td>USA</td>\n",
       "      <td>Premium</td>\n",
       "      <td>351.80</td>\n",
       "      <td>Action</td>\n",
       "      <td>2024-10-16</td>\n",
       "    </tr>\n",
       "    <tr>\n",
       "      <th>24998</th>\n",
       "      <td>24999</td>\n",
       "      <td>Michael Williams</td>\n",
       "      <td>71</td>\n",
       "      <td>USA</td>\n",
       "      <td>Basic</td>\n",
       "      <td>655.89</td>\n",
       "      <td>Action</td>\n",
       "      <td>2024-08-27</td>\n",
       "    </tr>\n",
       "    <tr>\n",
       "      <th>24999</th>\n",
       "      <td>25000</td>\n",
       "      <td>James Jones</td>\n",
       "      <td>19</td>\n",
       "      <td>Germany</td>\n",
       "      <td>Premium</td>\n",
       "      <td>207.06</td>\n",
       "      <td>Documentary</td>\n",
       "      <td>2024-04-12</td>\n",
       "    </tr>\n",
       "  </tbody>\n",
       "</table>\n",
       "<p>25000 rows × 8 columns</p>\n",
       "</div>"
      ],
      "text/plain": [
       "       User_ID              Name  Age    Country Subscription_Type  \\\n",
       "0            1    James Martinez   18     France           Premium   \n",
       "1            2       John Miller   23        USA           Premium   \n",
       "2            3        Emma Davis   60         UK             Basic   \n",
       "3            4       Emma Miller   44        USA           Premium   \n",
       "4            5        Jane Smith   68        USA          Standard   \n",
       "...        ...               ...  ...        ...               ...   \n",
       "24995    24996      David Miller   18  Australia           Premium   \n",
       "24996    24997       Jane Miller   17        USA           Premium   \n",
       "24997    24998      Sarah Miller   14        USA           Premium   \n",
       "24998    24999  Michael Williams   71        USA             Basic   \n",
       "24999    25000       James Jones   19    Germany           Premium   \n",
       "\n",
       "       Watch_Time_Hours Favorite_Genre  Last_Login  \n",
       "0                 80.26          Drama  2024-05-12  \n",
       "1                321.75         Sci-Fi  2025-02-05  \n",
       "2                 35.89         Comedy  2025-01-24  \n",
       "3                261.56    Documentary  2024-03-25  \n",
       "4                909.30          Drama  2025-01-14  \n",
       "...                 ...            ...         ...  \n",
       "24995            183.88         Horror  2025-01-18  \n",
       "24996            112.37          Drama  2024-06-29  \n",
       "24997            351.80         Action  2024-10-16  \n",
       "24998            655.89         Action  2024-08-27  \n",
       "24999            207.06    Documentary  2024-04-12  \n",
       "\n",
       "[25000 rows x 8 columns]"
      ]
     },
     "execution_count": 2,
     "metadata": {},
     "output_type": "execute_result"
    }
   ],
   "source": [
    "import pandas as pd\n",
    "from datetime import datetime\n",
    "import numpy as np\n",
    "import matplotlib.pyplot as plt\n",
    "df = pd.read_csv('netflix_users.csv')\n",
    "df"
   ]
  },
  {
   "cell_type": "code",
   "execution_count": 3,
   "id": "3f137373",
   "metadata": {},
   "outputs": [
    {
     "name": "stdout",
     "output_type": "stream",
     "text": [
      "<class 'pandas.core.frame.DataFrame'>\n",
      "RangeIndex: 25000 entries, 0 to 24999\n",
      "Data columns (total 8 columns):\n",
      " #   Column             Non-Null Count  Dtype  \n",
      "---  ------             --------------  -----  \n",
      " 0   User_ID            25000 non-null  int64  \n",
      " 1   Name               25000 non-null  object \n",
      " 2   Age                25000 non-null  int64  \n",
      " 3   Country            25000 non-null  object \n",
      " 4   Subscription_Type  25000 non-null  object \n",
      " 5   Watch_Time_Hours   25000 non-null  float64\n",
      " 6   Favorite_Genre     25000 non-null  object \n",
      " 7   Last_Login         25000 non-null  object \n",
      "dtypes: float64(1), int64(2), object(5)\n",
      "memory usage: 1.5+ MB\n"
     ]
    }
   ],
   "source": [
    "df.info()"
   ]
  },
  {
   "cell_type": "code",
   "execution_count": 4,
   "id": "769ae9a3",
   "metadata": {},
   "outputs": [
    {
     "data": {
      "text/plain": [
       "User_ID              0\n",
       "Name                 0\n",
       "Age                  0\n",
       "Country              0\n",
       "Subscription_Type    0\n",
       "Watch_Time_Hours     0\n",
       "Favorite_Genre       0\n",
       "Last_Login           0\n",
       "dtype: int64"
      ]
     },
     "execution_count": 4,
     "metadata": {},
     "output_type": "execute_result"
    }
   ],
   "source": [
    "df.isnull().sum()"
   ]
  },
  {
   "cell_type": "code",
   "execution_count": 5,
   "id": "b3f04370",
   "metadata": {},
   "outputs": [
    {
     "name": "stdout",
     "output_type": "stream",
     "text": [
      "['User_ID', 'Name', 'Age', 'Country', 'Subscription_Type', 'Watch_Time_Hours', 'Favorite_Genre', 'Last_Login']\n",
      "       User_ID              Name  Age    Country Subscription_Type  \\\n",
      "0            1    James Martinez   18     France           Premium   \n",
      "1            2       John Miller   23        USA           Premium   \n",
      "2            3        Emma Davis   60         UK             Basic   \n",
      "3            4       Emma Miller   44        USA           Premium   \n",
      "4            5        Jane Smith   68        USA          Standard   \n",
      "...        ...               ...  ...        ...               ...   \n",
      "24995    24996      David Miller   18  Australia           Premium   \n",
      "24996    24997       Jane Miller   17        USA           Premium   \n",
      "24997    24998      Sarah Miller   14        USA           Premium   \n",
      "24998    24999  Michael Williams   71        USA             Basic   \n",
      "24999    25000       James Jones   19    Germany           Premium   \n",
      "\n",
      "       Watch_Time_Hours Favorite_Genre Last_Login  Days_Since_Last_Login  \n",
      "0                 80.26          Drama 2024-05-12                    322  \n",
      "1                321.75         Sci-Fi 2025-02-05                     53  \n",
      "2                 35.89         Comedy 2025-01-24                     65  \n",
      "3                261.56    Documentary 2024-03-25                    370  \n",
      "4                909.30          Drama 2025-01-14                     75  \n",
      "...                 ...            ...        ...                    ...  \n",
      "24995            183.88         Horror 2025-01-18                     71  \n",
      "24996            112.37          Drama 2024-06-29                    274  \n",
      "24997            351.80         Action 2024-10-16                    165  \n",
      "24998            655.89         Action 2024-08-27                    215  \n",
      "24999            207.06    Documentary 2024-04-12                    352  \n",
      "\n",
      "[25000 rows x 9 columns]\n"
     ]
    }
   ],
   "source": [
    "\n",
    "print(df.columns.tolist())  # Verify the exact spelling/casing\n",
    "\n",
    "# 2. Convert to datetime if not already\n",
    "df['Last_Login'] = pd.to_datetime(df['Last_Login'], errors='coerce')\n",
    "\n",
    "# 3. Get current date\n",
    "current_date = datetime.now()\n",
    "\n",
    "# 4. Calculate difference AND convert to days\n",
    "df['Days_Since_Last_Login'] = (current_date - df['Last_Login']).dt.days\n",
    "\n",
    "print(df)"
   ]
  },
  {
   "cell_type": "code",
   "execution_count": 6,
   "id": "1652d5b0",
   "metadata": {},
   "outputs": [
    {
     "data": {
      "text/plain": [
       "0        322\n",
       "1         53\n",
       "2         65\n",
       "3        370\n",
       "4         75\n",
       "        ... \n",
       "24995     71\n",
       "24996    274\n",
       "24997    165\n",
       "24998    215\n",
       "24999    352\n",
       "Name: Days_Since_Last_Login, Length: 25000, dtype: int64"
      ]
     },
     "execution_count": 6,
     "metadata": {},
     "output_type": "execute_result"
    }
   ],
   "source": [
    "df['Days_Since_Last_Login']"
   ]
  },
  {
   "cell_type": "code",
   "execution_count": 7,
   "id": "2b906592",
   "metadata": {},
   "outputs": [
    {
     "data": {
      "text/plain": [
       "0          Teen\n",
       "1         Young\n",
       "2        Senior\n",
       "3         Adult\n",
       "4        Senior\n",
       "          ...  \n",
       "24995      Teen\n",
       "24996      Teen\n",
       "24997      Teen\n",
       "24998    Senior\n",
       "24999     Young\n",
       "Name: Age_Group, Length: 25000, dtype: category\n",
       "Categories (4, object): ['Teen' < 'Young' < 'Adult' < 'Senior']"
      ]
     },
     "execution_count": 7,
     "metadata": {},
     "output_type": "execute_result"
    }
   ],
   "source": [
    "df['Age_Group'] = pd.cut(df['Age'], bins=[0, 18, 35, 50, 100], labels=['Teen', 'Young', 'Adult', 'Senior'])#0-18= Teen : 19-35=Young\n",
    "df['Age_Group']"
   ]
  },
  {
   "cell_type": "code",
   "execution_count": 8,
   "id": "d5fec94f",
   "metadata": {},
   "outputs": [
    {
     "data": {
      "text/html": [
       "<div>\n",
       "<style scoped>\n",
       "    .dataframe tbody tr th:only-of-type {\n",
       "        vertical-align: middle;\n",
       "    }\n",
       "\n",
       "    .dataframe tbody tr th {\n",
       "        vertical-align: top;\n",
       "    }\n",
       "\n",
       "    .dataframe thead th {\n",
       "        text-align: right;\n",
       "    }\n",
       "</style>\n",
       "<table border=\"1\" class=\"dataframe\">\n",
       "  <thead>\n",
       "    <tr style=\"text-align: right;\">\n",
       "      <th></th>\n",
       "      <th>User_ID</th>\n",
       "      <th>Name</th>\n",
       "      <th>Age</th>\n",
       "      <th>Country</th>\n",
       "      <th>Subscription_Type</th>\n",
       "      <th>Watch_Time_Hours</th>\n",
       "      <th>Favorite_Genre</th>\n",
       "      <th>Last_Login</th>\n",
       "      <th>Days_Since_Last_Login</th>\n",
       "      <th>Age_Group</th>\n",
       "    </tr>\n",
       "  </thead>\n",
       "  <tbody>\n",
       "    <tr>\n",
       "      <th>0</th>\n",
       "      <td>1</td>\n",
       "      <td>James Martinez</td>\n",
       "      <td>18</td>\n",
       "      <td>France</td>\n",
       "      <td>Premium</td>\n",
       "      <td>80.26</td>\n",
       "      <td>Drama</td>\n",
       "      <td>2024-05-12</td>\n",
       "      <td>322</td>\n",
       "      <td>Teen</td>\n",
       "    </tr>\n",
       "    <tr>\n",
       "      <th>1</th>\n",
       "      <td>2</td>\n",
       "      <td>John Miller</td>\n",
       "      <td>23</td>\n",
       "      <td>USA</td>\n",
       "      <td>Premium</td>\n",
       "      <td>321.75</td>\n",
       "      <td>Sci-Fi</td>\n",
       "      <td>2025-02-05</td>\n",
       "      <td>53</td>\n",
       "      <td>Young</td>\n",
       "    </tr>\n",
       "    <tr>\n",
       "      <th>2</th>\n",
       "      <td>3</td>\n",
       "      <td>Emma Davis</td>\n",
       "      <td>60</td>\n",
       "      <td>UK</td>\n",
       "      <td>Basic</td>\n",
       "      <td>35.89</td>\n",
       "      <td>Comedy</td>\n",
       "      <td>2025-01-24</td>\n",
       "      <td>65</td>\n",
       "      <td>Senior</td>\n",
       "    </tr>\n",
       "    <tr>\n",
       "      <th>3</th>\n",
       "      <td>4</td>\n",
       "      <td>Emma Miller</td>\n",
       "      <td>44</td>\n",
       "      <td>USA</td>\n",
       "      <td>Premium</td>\n",
       "      <td>261.56</td>\n",
       "      <td>Documentary</td>\n",
       "      <td>2024-03-25</td>\n",
       "      <td>370</td>\n",
       "      <td>Adult</td>\n",
       "    </tr>\n",
       "    <tr>\n",
       "      <th>4</th>\n",
       "      <td>5</td>\n",
       "      <td>Jane Smith</td>\n",
       "      <td>68</td>\n",
       "      <td>USA</td>\n",
       "      <td>Standard</td>\n",
       "      <td>909.30</td>\n",
       "      <td>Drama</td>\n",
       "      <td>2025-01-14</td>\n",
       "      <td>75</td>\n",
       "      <td>Senior</td>\n",
       "    </tr>\n",
       "    <tr>\n",
       "      <th>...</th>\n",
       "      <td>...</td>\n",
       "      <td>...</td>\n",
       "      <td>...</td>\n",
       "      <td>...</td>\n",
       "      <td>...</td>\n",
       "      <td>...</td>\n",
       "      <td>...</td>\n",
       "      <td>...</td>\n",
       "      <td>...</td>\n",
       "      <td>...</td>\n",
       "    </tr>\n",
       "    <tr>\n",
       "      <th>24995</th>\n",
       "      <td>24996</td>\n",
       "      <td>David Miller</td>\n",
       "      <td>18</td>\n",
       "      <td>Australia</td>\n",
       "      <td>Premium</td>\n",
       "      <td>183.88</td>\n",
       "      <td>Horror</td>\n",
       "      <td>2025-01-18</td>\n",
       "      <td>71</td>\n",
       "      <td>Teen</td>\n",
       "    </tr>\n",
       "    <tr>\n",
       "      <th>24996</th>\n",
       "      <td>24997</td>\n",
       "      <td>Jane Miller</td>\n",
       "      <td>17</td>\n",
       "      <td>USA</td>\n",
       "      <td>Premium</td>\n",
       "      <td>112.37</td>\n",
       "      <td>Drama</td>\n",
       "      <td>2024-06-29</td>\n",
       "      <td>274</td>\n",
       "      <td>Teen</td>\n",
       "    </tr>\n",
       "    <tr>\n",
       "      <th>24997</th>\n",
       "      <td>24998</td>\n",
       "      <td>Sarah Miller</td>\n",
       "      <td>14</td>\n",
       "      <td>USA</td>\n",
       "      <td>Premium</td>\n",
       "      <td>351.80</td>\n",
       "      <td>Action</td>\n",
       "      <td>2024-10-16</td>\n",
       "      <td>165</td>\n",
       "      <td>Teen</td>\n",
       "    </tr>\n",
       "    <tr>\n",
       "      <th>24998</th>\n",
       "      <td>24999</td>\n",
       "      <td>Michael Williams</td>\n",
       "      <td>71</td>\n",
       "      <td>USA</td>\n",
       "      <td>Basic</td>\n",
       "      <td>655.89</td>\n",
       "      <td>Action</td>\n",
       "      <td>2024-08-27</td>\n",
       "      <td>215</td>\n",
       "      <td>Senior</td>\n",
       "    </tr>\n",
       "    <tr>\n",
       "      <th>24999</th>\n",
       "      <td>25000</td>\n",
       "      <td>James Jones</td>\n",
       "      <td>19</td>\n",
       "      <td>Germany</td>\n",
       "      <td>Premium</td>\n",
       "      <td>207.06</td>\n",
       "      <td>Documentary</td>\n",
       "      <td>2024-04-12</td>\n",
       "      <td>352</td>\n",
       "      <td>Young</td>\n",
       "    </tr>\n",
       "  </tbody>\n",
       "</table>\n",
       "<p>25000 rows × 10 columns</p>\n",
       "</div>"
      ],
      "text/plain": [
       "       User_ID              Name  Age    Country Subscription_Type  \\\n",
       "0            1    James Martinez   18     France           Premium   \n",
       "1            2       John Miller   23        USA           Premium   \n",
       "2            3        Emma Davis   60         UK             Basic   \n",
       "3            4       Emma Miller   44        USA           Premium   \n",
       "4            5        Jane Smith   68        USA          Standard   \n",
       "...        ...               ...  ...        ...               ...   \n",
       "24995    24996      David Miller   18  Australia           Premium   \n",
       "24996    24997       Jane Miller   17        USA           Premium   \n",
       "24997    24998      Sarah Miller   14        USA           Premium   \n",
       "24998    24999  Michael Williams   71        USA             Basic   \n",
       "24999    25000       James Jones   19    Germany           Premium   \n",
       "\n",
       "       Watch_Time_Hours Favorite_Genre Last_Login  Days_Since_Last_Login  \\\n",
       "0                 80.26          Drama 2024-05-12                    322   \n",
       "1                321.75         Sci-Fi 2025-02-05                     53   \n",
       "2                 35.89         Comedy 2025-01-24                     65   \n",
       "3                261.56    Documentary 2024-03-25                    370   \n",
       "4                909.30          Drama 2025-01-14                     75   \n",
       "...                 ...            ...        ...                    ...   \n",
       "24995            183.88         Horror 2025-01-18                     71   \n",
       "24996            112.37          Drama 2024-06-29                    274   \n",
       "24997            351.80         Action 2024-10-16                    165   \n",
       "24998            655.89         Action 2024-08-27                    215   \n",
       "24999            207.06    Documentary 2024-04-12                    352   \n",
       "\n",
       "      Age_Group  \n",
       "0          Teen  \n",
       "1         Young  \n",
       "2        Senior  \n",
       "3         Adult  \n",
       "4        Senior  \n",
       "...         ...  \n",
       "24995      Teen  \n",
       "24996      Teen  \n",
       "24997      Teen  \n",
       "24998    Senior  \n",
       "24999     Young  \n",
       "\n",
       "[25000 rows x 10 columns]"
      ]
     },
     "execution_count": 8,
     "metadata": {},
     "output_type": "execute_result"
    }
   ],
   "source": [
    "df"
   ]
  },
  {
   "cell_type": "code",
   "execution_count": 39,
   "id": "5b95a007",
   "metadata": {},
   "outputs": [
    {
     "data": {
      "text/plain": [
       "0        1.0\n",
       "1        0.0\n",
       "2        1.0\n",
       "3        0.0\n",
       "4        0.0\n",
       "        ... \n",
       "24995    0.0\n",
       "24996    0.0\n",
       "24997    0.0\n",
       "24998    0.0\n",
       "24999    0.0\n",
       "Name: Churn, Length: 25000, dtype: float64"
      ]
     },
     "execution_count": 39,
     "metadata": {},
     "output_type": "execute_result"
    }
   ],
   "source": [
    "df['Churn'] = ((df['Days_Since_Last_Login'] > 30) & \n",
    "               (df['Watch_Time_Hours'] < 100)).astype(float)\n",
    "df['Churn'] "
   ]
  },
  {
   "cell_type": "code",
   "execution_count": 40,
   "id": "3a813a49",
   "metadata": {},
   "outputs": [
    {
     "name": "stdout",
     "output_type": "stream",
     "text": [
      "  Age_Group     Churn\n",
      "0      Teen  0.109232\n",
      "1     Young  0.095794\n",
      "2     Adult  0.096381\n",
      "3    Senior  0.093377\n"
     ]
    }
   ],
   "source": [
    "churn_rates = df.groupby('Age_Group')(['Churn'].mean().reset_index()\n",
    "print(churn_rates)"
   ]
  },
  {
   "cell_type": "markdown",
   "id": "999b8ee5",
   "metadata": {},
   "source": [
    "Churn Definition:\n",
    "\n",
    "Churn = 1 → Inactive for 30+ days and watch time < 10hrs\n",
    "\n",
    "Churn = 0 → Active (logged in ≤30 days ago)\n",
    "\n",
    "Why This Works:\n",
    "\n",
    ".mean() on a binary column (0/1) calculates the churn rate directly."
   ]
  },
  {
   "cell_type": "code",
   "execution_count": 41,
   "id": "4f96f35d",
   "metadata": {},
   "outputs": [
    {
     "data": {
      "image/png": "[encoded data removed]",
      "text/plain": [
       "<Figure size 640x480 with 1 Axes>"
      ]
     },
     "metadata": {},
     "output_type": "display_data"
    }
   ],
   "source": [
    "import seaborn as sns\n",
    "sns.barplot(data=churn_rates, x='Age_Group', y='Churn')\n",
    "plt.title('Churn Rates by Age Group')\n",
    "plt.show()"
   ]
  },
  {
   "cell_type": "code",
   "execution_count": 42,
   "id": "b2cce6a6",
   "metadata": {},
   "outputs": [
    {
     "data": {
      "text/html": [
       "<div>\n",
       "<style scoped>\n",
       "    .dataframe tbody tr th:only-of-type {\n",
       "        vertical-align: middle;\n",
       "    }\n",
       "\n",
       "    .dataframe tbody tr th {\n",
       "        vertical-align: top;\n",
       "    }\n",
       "\n",
       "    .dataframe thead th {\n",
       "        text-align: right;\n",
       "    }\n",
       "</style>\n",
       "<table border=\"1\" class=\"dataframe\">\n",
       "  <thead>\n",
       "    <tr style=\"text-align: right;\">\n",
       "      <th></th>\n",
       "      <th>User_ID</th>\n",
       "      <th>Name</th>\n",
       "      <th>Age</th>\n",
       "      <th>Country</th>\n",
       "      <th>Subscription_Type</th>\n",
       "      <th>Watch_Time_Hours</th>\n",
       "      <th>Favorite_Genre</th>\n",
       "      <th>Last_Login</th>\n",
       "      <th>Days_Since_Last_Login</th>\n",
       "      <th>Age_Group</th>\n",
       "      <th>Churn</th>\n",
       "    </tr>\n",
       "  </thead>\n",
       "  <tbody>\n",
       "    <tr>\n",
       "      <th>0</th>\n",
       "      <td>1</td>\n",
       "      <td>James Martinez</td>\n",
       "      <td>18</td>\n",
       "      <td>France</td>\n",
       "      <td>Premium</td>\n",
       "      <td>80.26</td>\n",
       "      <td>Drama</td>\n",
       "      <td>2024-05-12</td>\n",
       "      <td>322</td>\n",
       "      <td>Teen</td>\n",
       "      <td>1.0</td>\n",
       "    </tr>\n",
       "    <tr>\n",
       "      <th>1</th>\n",
       "      <td>2</td>\n",
       "      <td>John Miller</td>\n",
       "      <td>23</td>\n",
       "      <td>USA</td>\n",
       "      <td>Premium</td>\n",
       "      <td>321.75</td>\n",
       "      <td>Sci-Fi</td>\n",
       "      <td>2025-02-05</td>\n",
       "      <td>53</td>\n",
       "      <td>Young</td>\n",
       "      <td>0.0</td>\n",
       "    </tr>\n",
       "    <tr>\n",
       "      <th>2</th>\n",
       "      <td>3</td>\n",
       "      <td>Emma Davis</td>\n",
       "      <td>60</td>\n",
       "      <td>UK</td>\n",
       "      <td>Basic</td>\n",
       "      <td>35.89</td>\n",
       "      <td>Comedy</td>\n",
       "      <td>2025-01-24</td>\n",
       "      <td>65</td>\n",
       "      <td>Senior</td>\n",
       "      <td>1.0</td>\n",
       "    </tr>\n",
       "    <tr>\n",
       "      <th>3</th>\n",
       "      <td>4</td>\n",
       "      <td>Emma Miller</td>\n",
       "      <td>44</td>\n",
       "      <td>USA</td>\n",
       "      <td>Premium</td>\n",
       "      <td>261.56</td>\n",
       "      <td>Documentary</td>\n",
       "      <td>2024-03-25</td>\n",
       "      <td>370</td>\n",
       "      <td>Adult</td>\n",
       "      <td>0.0</td>\n",
       "    </tr>\n",
       "    <tr>\n",
       "      <th>4</th>\n",
       "      <td>5</td>\n",
       "      <td>Jane Smith</td>\n",
       "      <td>68</td>\n",
       "      <td>USA</td>\n",
       "      <td>Standard</td>\n",
       "      <td>909.30</td>\n",
       "      <td>Drama</td>\n",
       "      <td>2025-01-14</td>\n",
       "      <td>75</td>\n",
       "      <td>Senior</td>\n",
       "      <td>0.0</td>\n",
       "    </tr>\n",
       "    <tr>\n",
       "      <th>...</th>\n",
       "      <td>...</td>\n",
       "      <td>...</td>\n",
       "      <td>...</td>\n",
       "      <td>...</td>\n",
       "      <td>...</td>\n",
       "      <td>...</td>\n",
       "      <td>...</td>\n",
       "      <td>...</td>\n",
       "      <td>...</td>\n",
       "      <td>...</td>\n",
       "      <td>...</td>\n",
       "    </tr>\n",
       "    <tr>\n",
       "      <th>24995</th>\n",
       "      <td>24996</td>\n",
       "      <td>David Miller</td>\n",
       "      <td>18</td>\n",
       "      <td>Australia</td>\n",
       "      <td>Premium</td>\n",
       "      <td>183.88</td>\n",
       "      <td>Horror</td>\n",
       "      <td>2025-01-18</td>\n",
       "      <td>71</td>\n",
       "      <td>Teen</td>\n",
       "      <td>0.0</td>\n",
       "    </tr>\n",
       "    <tr>\n",
       "      <th>24996</th>\n",
       "      <td>24997</td>\n",
       "      <td>Jane Miller</td>\n",
       "      <td>17</td>\n",
       "      <td>USA</td>\n",
       "      <td>Premium</td>\n",
       "      <td>112.37</td>\n",
       "      <td>Drama</td>\n",
       "      <td>2024-06-29</td>\n",
       "      <td>274</td>\n",
       "      <td>Teen</td>\n",
       "      <td>0.0</td>\n",
       "    </tr>\n",
       "    <tr>\n",
       "      <th>24997</th>\n",
       "      <td>24998</td>\n",
       "      <td>Sarah Miller</td>\n",
       "      <td>14</td>\n",
       "      <td>USA</td>\n",
       "      <td>Premium</td>\n",
       "      <td>351.80</td>\n",
       "      <td>Action</td>\n",
       "      <td>2024-10-16</td>\n",
       "      <td>165</td>\n",
       "      <td>Teen</td>\n",
       "      <td>0.0</td>\n",
       "    </tr>\n",
       "    <tr>\n",
       "      <th>24998</th>\n",
       "      <td>24999</td>\n",
       "      <td>Michael Williams</td>\n",
       "      <td>71</td>\n",
       "      <td>USA</td>\n",
       "      <td>Basic</td>\n",
       "      <td>655.89</td>\n",
       "      <td>Action</td>\n",
       "      <td>2024-08-27</td>\n",
       "      <td>215</td>\n",
       "      <td>Senior</td>\n",
       "      <td>0.0</td>\n",
       "    </tr>\n",
       "    <tr>\n",
       "      <th>24999</th>\n",
       "      <td>25000</td>\n",
       "      <td>James Jones</td>\n",
       "      <td>19</td>\n",
       "      <td>Germany</td>\n",
       "      <td>Premium</td>\n",
       "      <td>207.06</td>\n",
       "      <td>Documentary</td>\n",
       "      <td>2024-04-12</td>\n",
       "      <td>352</td>\n",
       "      <td>Young</td>\n",
       "      <td>0.0</td>\n",
       "    </tr>\n",
       "  </tbody>\n",
       "</table>\n",
       "<p>25000 rows × 11 columns</p>\n",
       "</div>"
      ],
      "text/plain": [
       "       User_ID              Name  Age    Country Subscription_Type  \\\n",
       "0            1    James Martinez   18     France           Premium   \n",
       "1            2       John Miller   23        USA           Premium   \n",
       "2            3        Emma Davis   60         UK             Basic   \n",
       "3            4       Emma Miller   44        USA           Premium   \n",
       "4            5        Jane Smith   68        USA          Standard   \n",
       "...        ...               ...  ...        ...               ...   \n",
       "24995    24996      David Miller   18  Australia           Premium   \n",
       "24996    24997       Jane Miller   17        USA           Premium   \n",
       "24997    24998      Sarah Miller   14        USA           Premium   \n",
       "24998    24999  Michael Williams   71        USA             Basic   \n",
       "24999    25000       James Jones   19    Germany           Premium   \n",
       "\n",
       "       Watch_Time_Hours Favorite_Genre Last_Login  Days_Since_Last_Login  \\\n",
       "0                 80.26          Drama 2024-05-12                    322   \n",
       "1                321.75         Sci-Fi 2025-02-05                     53   \n",
       "2                 35.89         Comedy 2025-01-24                     65   \n",
       "3                261.56    Documentary 2024-03-25                    370   \n",
       "4                909.30          Drama 2025-01-14                     75   \n",
       "...                 ...            ...        ...                    ...   \n",
       "24995            183.88         Horror 2025-01-18                     71   \n",
       "24996            112.37          Drama 2024-06-29                    274   \n",
       "24997            351.80         Action 2024-10-16                    165   \n",
       "24998            655.89         Action 2024-08-27                    215   \n",
       "24999            207.06    Documentary 2024-04-12                    352   \n",
       "\n",
       "      Age_Group  Churn  \n",
       "0          Teen    1.0  \n",
       "1         Young    0.0  \n",
       "2        Senior    1.0  \n",
       "3         Adult    0.0  \n",
       "4        Senior    0.0  \n",
       "...         ...    ...  \n",
       "24995      Teen    0.0  \n",
       "24996      Teen    0.0  \n",
       "24997      Teen    0.0  \n",
       "24998    Senior    0.0  \n",
       "24999     Young    0.0  \n",
       "\n",
       "[25000 rows x 11 columns]"
      ]
     },
     "execution_count": 42,
     "metadata": {},
     "output_type": "execute_result"
    }
   ],
   "source": [
    "df"
   ]
  },
  {
   "cell_type": "code",
   "execution_count": 43,
   "id": "2c05f15e",
   "metadata": {},
   "outputs": [
    {
     "name": "stdout",
     "output_type": "stream",
     "text": [
      "  Subscription_Type     Churn\n",
      "0             Basic  0.093226\n",
      "1           Premium  0.095453\n",
      "2          Standard  0.099490\n"
     ]
    }
   ],
   "source": [
    "import pandas as pd\n",
    "import seaborn as sns\n",
    "import matplotlib.pyplot as plt\n",
    "\n",
    "# Group by Subscription_Type and calculate mean churn rate\n",
    "subscription_churn = df.groupby('Subscription_Type')['Churn'].mean().reset_index()\n",
    "\n",
    "# Print the results\n",
    "print(subscription_churn)"
   ]
  },
  {
   "cell_type": "code",
   "execution_count": 44,
   "id": "96012d53",
   "metadata": {},
   "outputs": [
    {
     "data": {
      "image/png": "[encoded data removed]",
      "text/plain": [
       "<Figure size 800x500 with 1 Axes>"
      ]
     },
     "metadata": {},
     "output_type": "display_data"
    }
   ],
   "source": [
    "# Create a bar plot\n",
    "plt.figure(figsize=(8, 5))\n",
    "sns.barplot(data=subscription_churn, x='Subscription_Type', y='Churn', palette='Blues')\n",
    "plt.title('Churn Rates by Subscription Plan')\n",
    "plt.xlabel('Subscription Type')\n",
    "plt.ylabel('Churn Rate (%)')\n",
    "\n",
    "plt.show()"
   ]
  },
  {
   "cell_type": "code",
   "execution_count": 45,
   "id": "c959632a",
   "metadata": {},
   "outputs": [
    {
     "data": {
      "image/png": "[encoded data removed]",
      "text/plain": [
       "<Figure size 640x480 with 2 Axes>"
      ]
     },
     "metadata": {},
     "output_type": "display_data"
    }
   ],
   "source": [
    "# Cross-tabulation: Subscription Type vs. Age Group\n",
    "cross_tab = pd.crosstab(\n",
    "    index=df['Subscription_Type'],\n",
    "    columns=df['Age_Group'],\n",
    "    values=df['Churn'],\n",
    "    aggfunc='mean'\n",
    ")\n",
    "\n",
    "sns.heatmap(cross_tab, annot=True, fmt='.0%', cmap='Reds')\n",
    "plt.title('Churn Rates by Subscription Type and Age Group')\n",
    "plt.show()"
   ]
  },
  {
   "cell_type": "code",
   "execution_count": 49,
   "id": "fa6a50e2",
   "metadata": {},
   "outputs": [
    {
     "data": {
      "image/png": "[encoded data removed]",
      "text/plain": [
       "<Figure size 640x480 with 2 Axes>"
      ]
     },
     "metadata": {},
     "output_type": "display_data"
    }
   ],
   "source": [
    "# Cross-tab Country and Subscription Type\n",
    "heatmap_data = pd.crosstab(df['Country'], df['Subscription_Type'], \n",
    "                          values=df['Churn'], aggfunc='mean')\n",
    "\n",
    "sns.heatmap(heatmap_data, annot=True, fmt='.0%', cmap='Reds')\n",
    "plt.title('Churn Rates by Country and Subscription Type')\n",
    "plt.show()"
   ]
  },
  {
   "cell_type": "code",
   "execution_count": 54,
   "id": "ccf3362a",
   "metadata": {},
   "outputs": [
    {
     "data": {
      "image/png": "[encoded data removed]",
      "text/plain": [
       "<Figure size 640x480 with 1 Axes>"
      ]
     },
     "metadata": {},
     "output_type": "display_data"
    }
   ],
   "source": [
    "# Top genres among churned users\n",
    "churned_genres = df[df['Churn'] == 1]['Favorite_Genre'].value_counts(normalize=True)\n",
    "\n",
    "# Plot\n",
    "churned_genres.head(5).plot(kind='pie', autopct='%1.1f%%')\n",
    "plt.title('Top Genres Among Churned Users')\n",
    "plt.show()"
   ]
  },
  {
   "cell_type": "code",
   "execution_count": 61,
   "id": "46ff1b9f",
   "metadata": {},
   "outputs": [
    {
     "name": "stdout",
     "output_type": "stream",
     "text": [
      "    Age_Group Subscription_Type  Country     Churn\n",
      "3        Teen             Basic   France  0.179487\n",
      "4        Teen             Basic  Germany  0.144928\n",
      "6        Teen             Basic    Japan  0.166667\n",
      "11       Teen           Premium   Brazil  0.134831\n",
      "14       Teen           Premium  Germany  0.176471\n",
      "22       Teen          Standard   Canada  0.144578\n",
      "26       Teen          Standard    Japan  0.162500\n",
      "27       Teen          Standard   Mexico  0.130435\n",
      "35      Young             Basic    India  0.135135\n",
      "71      Adult           Premium   Brazil  0.143713\n",
      "116    Senior          Standard    Japan  0.149718\n"
     ]
    }
   ],
   "source": [
    "# Group by 3 parameters\n",
    "segmented_churn = df.groupby(['Age_Group', 'Subscription_Type', 'Country'])['Churn'].mean().reset_index()\n",
    "\n",
    "# Filter high-risk segments\n",
    "high_risk = segmented_churn[segmented_churn['Churn'] > 0.13]\n",
    "print(high_risk)"
   ]
  },
  {
   "cell_type": "markdown",
   "id": "a0f04a1d",
   "metadata": {},
   "source": [
    "LOGESTIC REGRESSION"
   ]
  },
  {
   "cell_type": "code",
   "execution_count": 71,
   "id": "6fcaaf3f",
   "metadata": {},
   "outputs": [
    {
     "name": "stderr",
     "output_type": "stream",
     "text": [
      "C:\\Users\\HP\\anaconda3\\Lib\\site-packages\\sklearn\\preprocessing\\_encoders.py:972: FutureWarning: `sparse` was renamed to `sparse_output` in version 1.2 and will be removed in 1.4. `sparse_output` is ignored unless you leave `sparse` to its default value.\n",
      "  warnings.warn(\n"
     ]
    }
   ],
   "source": [
    "from sklearn.preprocessing import OneHotEncoder\n",
    "\n",
    "# Encode categorical variables (Subscription_Type, Age_Group, etc.)\n",
    "encoder = OneHotEncoder(drop='first', sparse=False)#Converts categorical text data into numerical format.\n",
    "categorical_features = ['Subscription_Type', 'Age_Group', 'Country', 'Favorite_Genre']\n",
    "encoded_features = encoder.fit_transform(df[categorical_features])\n",
    "\n",
    "# Create DataFrame for encoded features\n",
    "encoded_df = pd.DataFrame(encoded_features, columns=encoder.get_feature_names_out(categorical_features))"
   ]
  },
  {
   "cell_type": "code",
   "execution_count": 72,
   "id": "2456921f",
   "metadata": {},
   "outputs": [],
   "source": [
    "numeric_features = ['Age', 'Watch_Time_Hours', 'Days_Since_Last_Login']\n",
    "X_numeric = df[numeric_features]"
   ]
  },
  {
   "cell_type": "code",
   "execution_count": 65,
   "id": "96873930",
   "metadata": {},
   "outputs": [],
   "source": [
    "import numpy as np\n",
    "X = np.concatenate([X_numeric, encoded_features], axis=1)\n",
    "y = df['Churn'].values  # Target variable"
   ]
  },
  {
   "cell_type": "code",
   "execution_count": 66,
   "id": "f411ec3e",
   "metadata": {},
   "outputs": [],
   "source": [
    "from sklearn.model_selection import train_test_split\n",
    "X_train, X_test, y_train, y_test = train_test_split(X, y, test_size=0.2, random_state=42)"
   ]
  },
  {
   "cell_type": "code",
   "execution_count": 67,
   "id": "2d23c922",
   "metadata": {},
   "outputs": [
    {
     "data": {
      "text/html": [
       "<style>#sk-container-id-1 {color: black;}#sk-container-id-1 pre{padding: 0;}#sk-container-id-1 div.sk-toggleable {background-color: white;}#sk-container-id-1 label.sk-toggleable__label {cursor: pointer;display: block;width: 100%;margin-bottom: 0;padding: 0.3em;box-sizing: border-box;text-align: center;}#sk-container-id-1 label.sk-toggleable__label-arrow:before {content: \"▸\";float: left;margin-right: 0.25em;color: #696969;}#sk-container-id-1 label.sk-toggleable__label-arrow:hover:before {color: black;}#sk-container-id-1 div.sk-estimator:hover label.sk-toggleable__label-arrow:before {color: black;}#sk-container-id-1 div.sk-toggleable__content {max-height: 0;max-width: 0;overflow: hidden;text-align: left;background-color: #f0f8ff;}#sk-container-id-1 div.sk-toggleable__content pre {margin: 0.2em;color: black;border-radius: 0.25em;background-color: #f0f8ff;}#sk-container-id-1 input.sk-toggleable__control:checked~div.sk-toggleable__content {max-height: 200px;max-width: 100%;overflow: auto;}#sk-container-id-1 input.sk-toggleable__control:checked~label.sk-toggleable__label-arrow:before {content: \"▾\";}#sk-container-id-1 div.sk-estimator input.sk-toggleable__control:checked~label.sk-toggleable__label {background-color: #d4ebff;}#sk-container-id-1 div.sk-label input.sk-toggleable__control:checked~label.sk-toggleable__label {background-color: #d4ebff;}#sk-container-id-1 input.sk-hidden--visually {border: 0;clip: rect(1px 1px 1px 1px);clip: rect(1px, 1px, 1px, 1px);height: 1px;margin: -1px;overflow: hidden;padding: 0;position: absolute;width: 1px;}#sk-container-id-1 div.sk-estimator {font-family: monospace;background-color: #f0f8ff;border: 1px dotted black;border-radius: 0.25em;box-sizing: border-box;margin-bottom: 0.5em;}#sk-container-id-1 div.sk-estimator:hover {background-color: #d4ebff;}#sk-container-id-1 div.sk-parallel-item::after {content: \"\";width: 100%;border-bottom: 1px solid gray;flex-grow: 1;}#sk-container-id-1 div.sk-label:hover label.sk-toggleable__label {background-color: #d4ebff;}#sk-container-id-1 div.sk-serial::before {content: \"\";position: absolute;border-left: 1px solid gray;box-sizing: border-box;top: 0;bottom: 0;left: 50%;z-index: 0;}#sk-container-id-1 div.sk-serial {display: flex;flex-direction: column;align-items: center;background-color: white;padding-right: 0.2em;padding-left: 0.2em;position: relative;}#sk-container-id-1 div.sk-item {position: relative;z-index: 1;}#sk-container-id-1 div.sk-parallel {display: flex;align-items: stretch;justify-content: center;background-color: white;position: relative;}#sk-container-id-1 div.sk-item::before, #sk-container-id-1 div.sk-parallel-item::before {content: \"\";position: absolute;border-left: 1px solid gray;box-sizing: border-box;top: 0;bottom: 0;left: 50%;z-index: -1;}#sk-container-id-1 div.sk-parallel-item {display: flex;flex-direction: column;z-index: 1;position: relative;background-color: white;}#sk-container-id-1 div.sk-parallel-item:first-child::after {align-self: flex-end;width: 50%;}#sk-container-id-1 div.sk-parallel-item:last-child::after {align-self: flex-start;width: 50%;}#sk-container-id-1 div.sk-parallel-item:only-child::after {width: 0;}#sk-container-id-1 div.sk-dashed-wrapped {border: 1px dashed gray;margin: 0 0.4em 0.5em 0.4em;box-sizing: border-box;padding-bottom: 0.4em;background-color: white;}#sk-container-id-1 div.sk-label label {font-family: monospace;font-weight: bold;display: inline-block;line-height: 1.2em;}#sk-container-id-1 div.sk-label-container {text-align: center;}#sk-container-id-1 div.sk-container {/* jupyter's `normalize.less` sets `[hidden] { display: none; }` but bootstrap.min.css set `[hidden] { display: none !important; }` so we also need the `!important` here to be able to override the default hidden behavior on the sphinx rendered scikit-learn.org. See: https://github.com/scikit-learn/scikit-learn/issues/21755 */display: inline-block !important;position: relative;}#sk-container-id-1 div.sk-text-repr-fallback {display: none;}</style><div id=\"sk-container-id-1\" class=\"sk-top-container\"><div class=\"sk-text-repr-fallback\"><pre>LogisticRegression(max_iter=1000)</pre><b>In a Jupyter environment, please rerun this cell to show the HTML representation or trust the notebook. <br />On GitHub, the HTML representation is unable to render, please try loading this page with nbviewer.org.</b></div><div class=\"sk-container\" hidden><div class=\"sk-item\"><div class=\"sk-estimator sk-toggleable\"><input class=\"sk-toggleable__control sk-hidden--visually\" id=\"sk-estimator-id-1\" type=\"checkbox\" checked><label for=\"sk-estimator-id-1\" class=\"sk-toggleable__label sk-toggleable__label-arrow\">LogisticRegression</label><div class=\"sk-toggleable__content\"><pre>LogisticRegression(max_iter=1000)</pre></div></div></div></div></div>"
      ],
      "text/plain": [
       "LogisticRegression(max_iter=1000)"
      ]
     },
     "execution_count": 67,
     "metadata": {},
     "output_type": "execute_result"
    }
   ],
   "source": [
    "from sklearn.linear_model import LogisticRegression\n",
    "\n",
    "# Initialize and train the model\n",
    "model = LogisticRegression(max_iter=1000)  # Increase max_iter for convergence\n",
    "model.fit(X_train, y_train)"
   ]
  },
  {
   "cell_type": "code",
   "execution_count": 68,
   "id": "62273a0e",
   "metadata": {},
   "outputs": [
    {
     "name": "stdout",
     "output_type": "stream",
     "text": [
      "              precision    recall  f1-score   support\n",
      "\n",
      "         0.0       1.00      1.00      1.00      4514\n",
      "         1.0       0.96      0.98      0.97       486\n",
      "\n",
      "    accuracy                           0.99      5000\n",
      "   macro avg       0.98      0.99      0.98      5000\n",
      "weighted avg       0.99      0.99      0.99      5000\n",
      "\n",
      "Confusion Matrix:\n",
      " [[4495   19]\n",
      " [  12  474]]\n"
     ]
    }
   ],
   "source": [
    "from sklearn.metrics import classification_report, confusion_matrix\n",
    "\n",
    "# Predictions\n",
    "y_pred = model.predict(X_test)\n",
    "\n",
    "# Evaluation metrics\n",
    "print(classification_report(y_test, y_pred))\n",
    "print(\"Confusion Matrix:\\n\", confusion_matrix(y_test, y_pred))"
   ]
  },
  {
   "cell_type": "code",
   "execution_count": null,
   "id": "e15015e2",
   "metadata": {},
   "outputs": [],
   "source": []
  }
 ],
 "metadata": {
  "kernelspec": {
   "display_name": "Python 3 (ipykernel)",
   "language": "python",
   "name": "python3"
  },
  "language_info": {
   "codemirror_mode": {
    "name": "ipython",
    "version": 3
   },
   "file_extension": ".py",
   "mimetype": "text/x-python",
   "name": "python",
   "nbconvert_exporter": "python",
   "pygments_lexer": "ipython3",
   "version": "3.11.5"
  }
 },
 "nbformat": 4,
 "nbformat_minor": 5
}
