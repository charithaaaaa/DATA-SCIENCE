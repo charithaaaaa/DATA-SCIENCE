{
 "cells": [
  {
   "cell_type": "code",
   "execution_count": 3,
   "id": "2678c6f4",
   "metadata": {},
   "outputs": [
    {
     "name": "stdout",
     "output_type": "stream",
     "text": [
      "Shape of dataset:\n",
      "(307, 7)\n",
      "First 5 rows:\n",
      "Last 5 rows:\n",
      "      id               name               nationality         city gender  \\\n",
      "302  302        Austin Haas  United States of America     Columbus      M   \n",
      "303  303    Madison Fithian  United States of America  Los Angeles      F   \n",
      "304  304  Zachary Mulvahill  United States of America  Los Angeles      M   \n",
      "305  305   Eliana Michelsen  United States of America      Oakland      F   \n",
      "306  306    Dane Whittemore                    Canada      Toronto      M   \n",
      "\n",
      "     age  mark  \n",
      "302   20    87  \n",
      "303   20    98  \n",
      "304   20    67  \n",
      "305   23    62  \n",
      "306   21    74  \n",
      "column names\n",
      "Index(['id', 'name', 'nationality', 'city', 'gender', 'age', 'mark'], dtype='object')\n"
     ]
    }
   ],
   "source": [
    "import pandas as pd\n",
    "df= pd.read_csv(\"student.csv\")\n",
    "print(\"Shape of dataset:\")\n",
    "print(df.shape)\n",
    "print(\"First 5 rows:\")\n",
    "df.head()\n",
    "print(\"Last 5 rows:\")#show the last 5 row of dataset\n",
    "print(df.tail())\n",
    "print(\"column names\")\n",
    "print(df.columns)\n",
    "\n"
   ]
  },
  {
   "cell_type": "code",
   "execution_count": null,
   "id": "64eb15ed",
   "metadata": {},
   "outputs": [],
   "source": [
    "print(\"Statical things\")\n",
    "print(df.describe())\n",
    "print(\"statistical summary on only on mark\")\n",
    "print(df.describe()['mark'])\n",
    "metrics=df.describe()['mark']\n",
    "print(metrics)\n"
   ]
  },
  {
   "cell_type": "code",
   "execution_count": 7,
   "id": "0e1af636",
   "metadata": {},
   "outputs": [
    {
     "name": "stdout",
     "output_type": "stream",
     "text": [
      "12.0\n"
     ]
    }
   ],
   "source": [
    "#calIQR Q3-Q1 \n",
    "IQR=metrics.loc['75%']-metrics.loc['25%']\n",
    "print(IQR)"
   ]
  },
  {
   "cell_type": "code",
   "execution_count": 11,
   "id": "c21ba37f",
   "metadata": {},
   "outputs": [
    {
     "name": "stdout",
     "output_type": "stream",
     "text": [
      "45\n",
      "98\n",
      "77.0\n",
      "73.89902280130293\n",
      "307\n",
      "10.688377064396638\n",
      "114.2414042707201\n"
     ]
    }
   ],
   "source": [
    "print(df['mark'].min())\n",
    "print(df['mark'].max())\n",
    "print(df['mark'].median())\n",
    "print(df['mark'].mean())\n",
    "print(df['mark'].count())\n",
    "print(df['mark'].std())\n",
    "a=df['mark'].std()\n",
    "varience=a*a\n",
    "print(varience)"
   ]
  },
  {
   "cell_type": "code",
   "execution_count": 20,
   "id": "ad6d4016",
   "metadata": {
    "scrolled": true
   },
   "outputs": [
    {
     "name": "stdout",
     "output_type": "stream",
     "text": [
      "7.963309955543295\n"
     ]
    }
   ],
   "source": [
    "mean_value= df['mark'].mean()\n",
    "abs_diff= abs(df['mark']-mean_value)\n",
    "mad= abs_diff.mean()\n",
    "print(mad)"
   ]
  },
  {
   "cell_type": "code",
   "execution_count": 21,
   "id": "fc944664",
   "metadata": {},
   "outputs": [
    {
     "name": "stdout",
     "output_type": "stream",
     "text": [
      "0.25    67.0\n",
      "0.50    77.0\n",
      "0.75    79.0\n",
      "Name: mark, dtype: float64\n"
     ]
    }
   ],
   "source": [
    "print(df['mark'].quantile([0.25,0.5,0.75]))"
   ]
  },
  {
   "cell_type": "code",
   "execution_count": 23,
   "id": "eec06c28",
   "metadata": {},
   "outputs": [
    {
     "name": "stdout",
     "output_type": "stream",
     "text": [
      "[75 78 77 79 90 88 86 71 72 73 45 65 66 81 82 83 91 92 76 55 87 85 98 95\n",
      " 63 56 67 62 74]\n"
     ]
    }
   ],
   "source": [
    "#No of unique values present in a particular column\n",
    "print(df['mark'].unique())"
   ]
  },
  {
   "cell_type": "code",
   "execution_count": 25,
   "id": "24b9e842",
   "metadata": {
    "scrolled": true
   },
   "outputs": [
    {
     "data": {
      "text/plain": [
       "84     45\n",
       "243    45\n",
       "152    45\n",
       "257    45\n",
       "97     45\n",
       "       ..\n",
       "67     98\n",
       "77     98\n",
       "283    98\n",
       "57     98\n",
       "303    98\n",
       "Name: mark, Length: 307, dtype: int64"
      ]
     },
     "execution_count": 25,
     "metadata": {},
     "output_type": "execute_result"
    }
   ],
   "source": [
    "df['mark'].sort_values()"
   ]
  },
  {
   "cell_type": "code",
   "execution_count": 2,
   "id": "ce465df0",
   "metadata": {},
   "outputs": [
    {
     "data": {
      "text/plain": [
       "84     45\n",
       "243    45\n",
       "152    45\n",
       "257    45\n",
       "97     45\n",
       "Name: mark, dtype: int64"
      ]
     },
     "execution_count": 2,
     "metadata": {},
     "output_type": "execute_result"
    }
   ],
   "source": [
    "# 1st 5 of all sorted \n",
    "v=df['mark'].sort_values()\n",
    "v.head()"
   ]
  },
  {
   "cell_type": "code",
   "execution_count": 5,
   "id": "54126d44",
   "metadata": {
    "scrolled": true
   },
   "outputs": [
    {
     "data": {
      "text/plain": [
       "<Axes: >"
      ]
     },
     "execution_count": 5,
     "metadata": {},
     "output_type": "execute_result"
    },
    {
     "data": {
      "image/png": "[encoded data removed]",
      "text/plain": [
       "<Figure size 640x480 with 1 Axes>"
      ]
     },
     "metadata": {},
     "output_type": "display_data"
    }
   ],
   "source": [
    "df['mark'].sort_values(ignore_index=True).plot(kind='line')"
   ]
  },
  {
   "cell_type": "code",
   "execution_count": 14,
   "id": "9b3c2704",
   "metadata": {
    "scrolled": false
   },
   "outputs": [
    {
     "data": {
      "text/plain": [
       "84     45\n",
       "243    45\n",
       "152    45\n",
       "257    45\n",
       "97     45\n",
       "Name: mark, dtype: int64"
      ]
     },
     "execution_count": 14,
     "metadata": {},
     "output_type": "execute_result"
    }
   ],
   "source": [
    "df['mark'].sort_values().head()"
   ]
  },
  {
   "cell_type": "code",
   "execution_count": 12,
   "id": "b42ea874",
   "metadata": {
    "scrolled": true
   },
   "outputs": [
    {
     "data": {
      "text/plain": [
       "0    45\n",
       "1    45\n",
       "2    45\n",
       "3    45\n",
       "4    45\n",
       "Name: mark, dtype: int64"
      ]
     },
     "execution_count": 12,
     "metadata": {},
     "output_type": "execute_result"
    }
   ],
   "source": [
    "df['mark'].sort_values(ignore_index=True).head()"
   ]
  },
  {
   "cell_type": "code",
   "execution_count": 15,
   "id": "1138c043",
   "metadata": {},
   "outputs": [
    {
     "data": {
      "text/plain": [
       "<Axes: >"
      ]
     },
     "execution_count": 15,
     "metadata": {},
     "output_type": "execute_result"
    },
    {
     "data": {
      "image/png": "[encoded data removed]",
      "text/plain": [
       "<Figure size 640x480 with 1 Axes>"
      ]
     },
     "metadata": {},
     "output_type": "display_data"
    }
   ],
   "source": [
    "df['mark'].plot(kind='box')"
   ]
  },
  {
   "cell_type": "code",
   "execution_count": 16,
   "id": "bec7136d",
   "metadata": {},
   "outputs": [
    {
     "data": {
      "text/plain": [
       "<Axes: ylabel='Frequency'>"
      ]
     },
     "execution_count": 16,
     "metadata": {},
     "output_type": "execute_result"
    },
    {
     "data": {
      "image/png": "[encoded data removed]",
      "text/plain": [
       "<Figure size 640x480 with 1 Axes>"
      ]
     },
     "metadata": {},
     "output_type": "display_data"
    }
   ],
   "source": [
    "df['mark'].plot(kind='hist')"
   ]
  },
  {
   "cell_type": "code",
   "execution_count": 17,
   "id": "8b37028a",
   "metadata": {},
   "outputs": [
    {
     "data": {
      "text/plain": [
       "<Axes: ylabel='Density'>"
      ]
     },
     "execution_count": 17,
     "metadata": {},
     "output_type": "execute_result"
    },
    {
     "data": {
      "image/png": "[encoded data removed]",
      "text/plain": [
       "<Figure size 640x480 with 1 Axes>"
      ]
     },
     "metadata": {},
     "output_type": "display_data"
    }
   ],
   "source": [
    "df['mark'].plot(kind='kde')"
   ]
  },
  {
   "cell_type": "code",
   "execution_count": 18,
   "id": "acd57280",
   "metadata": {},
   "outputs": [
    {
     "data": {
      "text/html": [
       "<div>\n",
       "<style scoped>\n",
       "    .dataframe tbody tr th:only-of-type {\n",
       "        vertical-align: middle;\n",
       "    }\n",
       "\n",
       "    .dataframe tbody tr th {\n",
       "        vertical-align: top;\n",
       "    }\n",
       "\n",
       "    .dataframe thead th {\n",
       "        text-align: right;\n",
       "    }\n",
       "</style>\n",
       "<table border=\"1\" class=\"dataframe\">\n",
       "  <thead>\n",
       "    <tr style=\"text-align: right;\">\n",
       "      <th></th>\n",
       "      <th>country</th>\n",
       "      <th>year</th>\n",
       "      <th>pop</th>\n",
       "      <th>continent</th>\n",
       "      <th>lifeExp</th>\n",
       "      <th>gdpPercap</th>\n",
       "    </tr>\n",
       "  </thead>\n",
       "  <tbody>\n",
       "    <tr>\n",
       "      <th>0</th>\n",
       "      <td>Afghanistan</td>\n",
       "      <td>1952</td>\n",
       "      <td>8425333.0</td>\n",
       "      <td>Asia</td>\n",
       "      <td>28.801</td>\n",
       "      <td>779.445314</td>\n",
       "    </tr>\n",
       "    <tr>\n",
       "      <th>1</th>\n",
       "      <td>Afghanistan</td>\n",
       "      <td>1957</td>\n",
       "      <td>9240934.0</td>\n",
       "      <td>Asia</td>\n",
       "      <td>30.332</td>\n",
       "      <td>820.853030</td>\n",
       "    </tr>\n",
       "    <tr>\n",
       "      <th>2</th>\n",
       "      <td>Afghanistan</td>\n",
       "      <td>1962</td>\n",
       "      <td>10267083.0</td>\n",
       "      <td>Asia</td>\n",
       "      <td>31.997</td>\n",
       "      <td>853.100710</td>\n",
       "    </tr>\n",
       "    <tr>\n",
       "      <th>3</th>\n",
       "      <td>Afghanistan</td>\n",
       "      <td>1967</td>\n",
       "      <td>11537966.0</td>\n",
       "      <td>Asia</td>\n",
       "      <td>34.020</td>\n",
       "      <td>836.197138</td>\n",
       "    </tr>\n",
       "    <tr>\n",
       "      <th>4</th>\n",
       "      <td>Afghanistan</td>\n",
       "      <td>1972</td>\n",
       "      <td>13079460.0</td>\n",
       "      <td>Asia</td>\n",
       "      <td>36.088</td>\n",
       "      <td>739.981106</td>\n",
       "    </tr>\n",
       "    <tr>\n",
       "      <th>...</th>\n",
       "      <td>...</td>\n",
       "      <td>...</td>\n",
       "      <td>...</td>\n",
       "      <td>...</td>\n",
       "      <td>...</td>\n",
       "      <td>...</td>\n",
       "    </tr>\n",
       "    <tr>\n",
       "      <th>1699</th>\n",
       "      <td>Zimbabwe</td>\n",
       "      <td>1987</td>\n",
       "      <td>9216418.0</td>\n",
       "      <td>Africa</td>\n",
       "      <td>62.351</td>\n",
       "      <td>706.157306</td>\n",
       "    </tr>\n",
       "    <tr>\n",
       "      <th>1700</th>\n",
       "      <td>Zimbabwe</td>\n",
       "      <td>1992</td>\n",
       "      <td>10704340.0</td>\n",
       "      <td>Africa</td>\n",
       "      <td>60.377</td>\n",
       "      <td>693.420786</td>\n",
       "    </tr>\n",
       "    <tr>\n",
       "      <th>1701</th>\n",
       "      <td>Zimbabwe</td>\n",
       "      <td>1997</td>\n",
       "      <td>11404948.0</td>\n",
       "      <td>Africa</td>\n",
       "      <td>46.809</td>\n",
       "      <td>792.449960</td>\n",
       "    </tr>\n",
       "    <tr>\n",
       "      <th>1702</th>\n",
       "      <td>Zimbabwe</td>\n",
       "      <td>2002</td>\n",
       "      <td>11926563.0</td>\n",
       "      <td>Africa</td>\n",
       "      <td>39.989</td>\n",
       "      <td>672.038623</td>\n",
       "    </tr>\n",
       "    <tr>\n",
       "      <th>1703</th>\n",
       "      <td>Zimbabwe</td>\n",
       "      <td>2007</td>\n",
       "      <td>12311143.0</td>\n",
       "      <td>Africa</td>\n",
       "      <td>43.487</td>\n",
       "      <td>469.709298</td>\n",
       "    </tr>\n",
       "  </tbody>\n",
       "</table>\n",
       "<p>1704 rows × 6 columns</p>\n",
       "</div>"
      ],
      "text/plain": [
       "          country  year         pop continent  lifeExp   gdpPercap\n",
       "0     Afghanistan  1952   8425333.0      Asia   28.801  779.445314\n",
       "1     Afghanistan  1957   9240934.0      Asia   30.332  820.853030\n",
       "2     Afghanistan  1962  10267083.0      Asia   31.997  853.100710\n",
       "3     Afghanistan  1967  11537966.0      Asia   34.020  836.197138\n",
       "4     Afghanistan  1972  13079460.0      Asia   36.088  739.981106\n",
       "...           ...   ...         ...       ...      ...         ...\n",
       "1699     Zimbabwe  1987   9216418.0    Africa   62.351  706.157306\n",
       "1700     Zimbabwe  1992  10704340.0    Africa   60.377  693.420786\n",
       "1701     Zimbabwe  1997  11404948.0    Africa   46.809  792.449960\n",
       "1702     Zimbabwe  2002  11926563.0    Africa   39.989  672.038623\n",
       "1703     Zimbabwe  2007  12311143.0    Africa   43.487  469.709298\n",
       "\n",
       "[1704 rows x 6 columns]"
      ]
     },
     "execution_count": 18,
     "metadata": {},
     "output_type": "execute_result"
    }
   ],
   "source": [
    "import pandas as pd\n",
    "df=pd.read_csv('gapminder-FiveYearData.csv')\n",
    "df"
   ]
  },
  {
   "cell_type": "code",
   "execution_count": 19,
   "id": "6dce1dec",
   "metadata": {},
   "outputs": [
    {
     "data": {
      "text/plain": [
       "count    1704.000000\n",
       "mean       59.474439\n",
       "std        12.917107\n",
       "min        23.599000\n",
       "25%        48.198000\n",
       "50%        60.712500\n",
       "75%        70.845500\n",
       "max        82.603000\n",
       "Name: lifeExp, dtype: float64"
      ]
     },
     "execution_count": 19,
     "metadata": {},
     "output_type": "execute_result"
    }
   ],
   "source": [
    "#describe\n",
    "df['lifeExp'].describe()\n",
    "df['lifeExp'].head()\n"
   ]
  },
  {
   "cell_type": "code",
   "execution_count": 4,
   "id": "d08c51e6",
   "metadata": {},
   "outputs": [
    {
     "name": "stdout",
     "output_type": "stream",
     "text": [
      "23.599\n",
      "82.603\n",
      "60.7125\n",
      "59.474439366197174\n",
      "1704\n",
      "12.917107415241187\n",
      "166.85166397687885\n"
     ]
    }
   ],
   "source": [
    "import pandas as pd\n",
    "df=pd.read_csv('gapminder-FiveYearData.csv')\n",
    "print(df['lifeExp'].min())\n",
    "print(df['lifeExp'].max())\n",
    "print(df['lifeExp'].median())\n",
    "print(df['lifeExp'].mean())\n",
    "print(df['lifeExp'].count())\n",
    "print(df['lifeExp'].std())\n",
    "a=df['lifeExp'].std()\n",
    "varience=a*a\n",
    "print(varience)"
   ]
  },
  {
   "cell_type": "code",
   "execution_count": 22,
   "id": "fb8bcc70",
   "metadata": {},
   "outputs": [
    {
     "data": {
      "text/plain": [
       "1626"
      ]
     },
     "execution_count": 22,
     "metadata": {},
     "output_type": "execute_result"
    }
   ],
   "source": [
    "df['lifeExp'].nunique()"
   ]
  },
  {
   "cell_type": "code",
   "execution_count": 5,
   "id": "f6261e76",
   "metadata": {},
   "outputs": [
    {
     "name": "stdout",
     "output_type": "stream",
     "text": [
      "0.25    48.1980\n",
      "0.50    60.7125\n",
      "0.75    70.8455\n",
      "Name: lifeExp, dtype: float64\n"
     ]
    }
   ],
   "source": [
    "print(df['lifeExp'].quantile([0.25,0.5,0.75]))"
   ]
  },
  {
   "cell_type": "code",
   "execution_count": 7,
   "id": "26a0878c",
   "metadata": {
    "scrolled": true
   },
   "outputs": [
    {
     "data": {
      "text/plain": [
       "1292    23.599\n",
       "0       28.801\n",
       "552     30.000\n",
       "36      30.015\n",
       "1344    30.331\n",
       "         ...  \n",
       "1487    81.701\n",
       "695     81.757\n",
       "802     82.000\n",
       "671     82.208\n",
       "803     82.603\n",
       "Name: lifeExp, Length: 1704, dtype: float64"
      ]
     },
     "execution_count": 7,
     "metadata": {},
     "output_type": "execute_result"
    }
   ],
   "source": [
    "df['lifeExp'].sort_values()"
   ]
  },
  {
   "cell_type": "code",
   "execution_count": 8,
   "id": "1686bddb",
   "metadata": {},
   "outputs": [
    {
     "data": {
      "text/plain": [
       "1292    23.599\n",
       "0       28.801\n",
       "552     30.000\n",
       "36      30.015\n",
       "1344    30.331\n",
       "Name: lifeExp, dtype: float64"
      ]
     },
     "execution_count": 8,
     "metadata": {},
     "output_type": "execute_result"
    }
   ],
   "source": [
    "df['lifeExp'].sort_values().head()"
   ]
  },
  {
   "cell_type": "code",
   "execution_count": 9,
   "id": "db68b3ae",
   "metadata": {},
   "outputs": [
    {
     "data": {
      "text/plain": [
       "1487    81.701\n",
       "695     81.757\n",
       "802     82.000\n",
       "671     82.208\n",
       "803     82.603\n",
       "Name: lifeExp, dtype: float64"
      ]
     },
     "execution_count": 9,
     "metadata": {},
     "output_type": "execute_result"
    }
   ],
   "source": [
    "df['lifeExp'].sort_values().tail()"
   ]
  },
  {
   "cell_type": "code",
   "execution_count": 10,
   "id": "4e279c34",
   "metadata": {},
   "outputs": [
    {
     "data": {
      "text/plain": [
       "<Axes: >"
      ]
     },
     "execution_count": 10,
     "metadata": {},
     "output_type": "execute_result"
    },
    {
     "data": {
      "image/png": "[encoded data removed]",
      "text/plain": [
       "<Figure size 640x480 with 1 Axes>"
      ]
     },
     "metadata": {},
     "output_type": "display_data"
    }
   ],
   "source": [
    "df['lifeExp'].sort_values(ignore_index=True).plot(kind='line')"
   ]
  },
  {
   "cell_type": "code",
   "execution_count": 11,
   "id": "5c2a2e16",
   "metadata": {},
   "outputs": [
    {
     "data": {
      "text/plain": [
       "0       23.599\n",
       "1       28.801\n",
       "2       30.000\n",
       "3       30.015\n",
       "4       30.331\n",
       "         ...  \n",
       "1699    81.701\n",
       "1700    81.757\n",
       "1701    82.000\n",
       "1702    82.208\n",
       "1703    82.603\n",
       "Name: lifeExp, Length: 1704, dtype: float64"
      ]
     },
     "execution_count": 11,
     "metadata": {},
     "output_type": "execute_result"
    }
   ],
   "source": [
    "df['lifeExp'].sort_values(ignore_index=True)"
   ]
  },
  {
   "cell_type": "code",
   "execution_count": null,
   "id": "f68ca241",
   "metadata": {},
   "outputs": [],
   "source": []
  }
 ],
 "metadata": {
  "kernelspec": {
   "display_name": "Python 3 (ipykernel)",
   "language": "python",
   "name": "python3"
  },
  "language_info": {
   "codemirror_mode": {
    "name": "ipython",
    "version": 3
   },
   "file_extension": ".py",
   "mimetype": "text/x-python",
   "name": "python",
   "nbconvert_exporter": "python",
   "pygments_lexer": "ipython3",
   "version": "3.11.5"
  }
 },
 "nbformat": 4,
 "nbformat_minor": 5
}
